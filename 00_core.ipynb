{
 "cells": [
  {
   "cell_type": "code",
   "execution_count": null,
   "metadata": {},
   "outputs": [],
   "source": [
    "# default_exp core"
   ]
  },
  {
   "cell_type": "markdown",
   "metadata": {},
   "source": [
    "# Monitoring temperature\n",
    "\n",
    "> Monitore the temperature while registering the results in a csv file with a timestamp."
   ]
  },
  {
   "cell_type": "code",
   "execution_count": null,
   "metadata": {},
   "outputs": [],
   "source": [
    "#hide\n",
    "from nbdev.showdoc import *\n",
    "import os\n",
    "import time\n",
    "import Adafruit_DHT"
   ]
  },
  {
   "cell_type": "code",
   "execution_count": null,
   "metadata": {},
   "outputs": [],
   "source": [
    "#set sensor name (DHT22) and pin number.\n",
    "DHT_SENSOR = Adafruit_DHT.DHT22\n",
    "DHT_PIN = 4\n",
    "#name and set the location of your csv file. The file name is humiditytest.csv.\n",
    "try:\n",
    "    f = open('/home/pi/humidity_test3.csv', 'a+')\n",
    "    if os.stat('/home/pi/humidity_test3.csv').st_size == 0:\n",
    "            f.write('Date,Time,Temperature,Humidity\\r\\n')\n",
    "except:\n",
    "    pass\n",
    "\n",
    "while True:\n",
    "    humidity, temperature = Adafruit_DHT.read_retry(DHT_SENSOR, DHT_PIN)\n",
    "    #register temperature, humidity, and the time (hour and minute)\n",
    "    if humidity is not None and temperature is not None:\n",
    "        f.write('{0},{1},{2:0.1f}*C,{3:0.1f}%\\r\\n'.format(time.strftime('%m/%d/%y'), time.strftime('%H:%M'), temperature, humidity))\n",
    "        print(\"{0},{1},{2:0.1f}*C,{3:0.1f}%\\r\\n\".format(time.strftime('%m/%d/%y'), time.strftime('%H:%M'), temperature, humidity))\n",
    "    else:\n",
    "        print(\"Failed to retrieve data from humidity sensor\")\n",
    "    #set time in seconds for every n number of seconds you want to register a temperature reading\n",
    "    time.sleep(30)"
   ]
  },
  {
   "cell_type": "markdown",
   "metadata": {},
   "source": [
    "Example 2"
   ]
  },
  {
   "cell_type": "code",
   "execution_count": null,
   "metadata": {},
   "outputs": [],
   "source": [
    "# Complete Project Details: https://RandomNerdTutorials.com/raspberry-pi-temperature-humidity-data-logger/\n",
    "\n",
    "import adafruit_dht\n",
    "import board\n",
    "import time\n",
    "import os\n",
    "\n",
    "# Sensor data pin is connected to GPIO 4\n",
    "sensor = adafruit_dht.DHT22(board.D4)\n",
    "# Uncomment for DHT11\n",
    "#sensor = adafruit_dht.DHT11(board.D4)\n",
    "\n",
    "# create a variable to control the while loop\n",
    "running = True\n",
    "\n",
    "# Check if the file exists before opening it in 'a' mode (append mode)\n",
    "file_exists = os.path.isfile('sensor_readings.txt')\n",
    "file = open('sensor_readings.txt', 'a')\n",
    "\n",
    "# Write the header to the file if the file does not exist\n",
    "if not file_exists:\n",
    "    file.write('Time and Date, temperature (ºC), temperature (ºF), humidity (%)\\n')\n",
    "\n",
    "# loop forever\n",
    "while running:\n",
    "    try:\n",
    "        # read the humidity and temperature\n",
    "        temperature_c = sensor.temperature\n",
    "        temperature_f = temperature_c * (9 / 5) + 32\n",
    "        humidity = sensor.humidity\n",
    "\n",
    "        #print readings on the shell\n",
    "        print(\"Temp={0:0.1f}ºC, Temp={1:0.1f}ºF, Humidity={2:0.1f}%\".format(temperature_c, temperature_f, humidity))\n",
    "\n",
    "        # save time, date, temperature, and humidity in .txt file\n",
    "        file.write(time.strftime('%H:%M:%S %d/%m/%Y') + ', {:.2f}, {:.2f}, {:.2f}\\n'.format(temperature_c, temperature_f, humidity))\n",
    "\n",
    "        # log new readings every 10 seconds\n",
    "        time.sleep(10)\n",
    "\n",
    "    except RuntimeError as error:\n",
    "        # Errors happen fairly often, DHT's are hard to read, just keep going\n",
    "        print(error.args[0])\n",
    "        time.sleep(2.0)\n",
    "        continue\n",
    "\n",
    "    except KeyboardInterrupt:\n",
    "        print('Program stopped')\n",
    "        running = False\n",
    "        file.close()\n",
    "\n",
    "    except Exception as e:\n",
    "        print('An unexpected error occurred:', str(e))\n",
    "        running = False\n",
    "        file.close()\n",
    "        sensor.exit()\n"
   ]
  },
  {
   "cell_type": "markdown",
   "metadata": {},
   "source": [
    "#Example 3 - with dashboard\n",
    "https://www.definit.co.uk/2018/07/monitoring-temperature-and-humidity-with-a-raspberry-pi-3-dht22-sensor-influxdb-and-grafana/  \n",
    "https://github.com/kjordahl/Temperature-logger/blob/master/plottemp.py\n"
   ]
  },
  {
   "cell_type": "code",
   "execution_count": null,
   "metadata": {},
   "outputs": [],
   "source": [
    "https://www.definit.co.uk/2018/07/monitoring-temperature-and-humidity-with-a-raspberry-pi-3-dht22-sensor-influxdb-and-grafana/\n"
   ]
  }
 ],
 "metadata": {
  "kernelspec": {
   "display_name": "Python 3",
   "language": "python",
   "name": "python3"
  }
 },
 "nbformat": 4,
 "nbformat_minor": 2
}
