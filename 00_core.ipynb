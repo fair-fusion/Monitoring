{
 "cells": [
  {
   "cell_type": "code",
   "execution_count": null,
   "metadata": {},
   "outputs": [],
   "source": [
    "# default_exp core"
   ]
  },
  {
   "cell_type": "markdown",
   "metadata": {},
   "source": [
    "# Monitoring temperature\n",
    "\n",
    "> Monitore the temperature while registering the results in a csv file with a timestamp."
   ]
  },
  {
   "cell_type": "code",
   "execution_count": null,
   "metadata": {},
   "outputs": [],
   "source": [
    "#hide\n",
    "from nbdev.showdoc import *\n",
    "import os\n",
    "import time\n",
    "import Adafruit_DHT"
   ]
  },
  {
   "cell_type": "code",
   "execution_count": null,
   "metadata": {},
   "outputs": [],
   "source": [
    "#set sensor name (DHT22) and pin number.\n",
    "DHT_SENSOR = Adafruit_DHT.DHT22\n",
    "DHT_PIN = 4\n",
    "#name and set the location of your csv file. The file name is humiditytest.csv. For evvery \n",
    "try:\n",
    "    f = open('/home/pi/humidity_test3.csv', 'a+')\n",
    "    if os.stat('/home/pi/humidity_test3.csv').st_size == 0:\n",
    "            f.write('Date,Time,Temperature,Humidity\\r\\n')\n",
    "except:\n",
    "    pass\n",
    "\n",
    "while True:\n",
    "    humidity, temperature = Adafruit_DHT.read_retry(DHT_SENSOR, DHT_PIN)\n",
    "    #register temperature, humidity, and the time (hour and minute)\n",
    "    if humidity is not None and temperature is not None:\n",
    "        f.write('{0},{1},{2:0.1f}*C,{3:0.1f}%\\r\\n'.format(time.strftime('%m/%d/%y'), time.strftime('%H:%M'), temperature, humidity))\n",
    "        print(\"{0},{1},{2:0.1f}*C,{3:0.1f}%\\r\\n\".format(time.strftime('%m/%d/%y'), time.strftime('%H:%M'), temperature, humidity))\n",
    "    else:\n",
    "        print(\"Failed to retrieve data from humidity sensor\")\n",
    "    #set time in seconds for every n number of seconds you want to register a temperature reading\n",
    "    time.sleep(30)"
   ]
  }
 ],
 "metadata": {
  "kernelspec": {
   "display_name": "Python 3",
   "language": "python",
   "name": "python3"
  }
 },
 "nbformat": 4,
 "nbformat_minor": 2
}
