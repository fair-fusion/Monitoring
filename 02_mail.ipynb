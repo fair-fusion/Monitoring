{
 "cells": [
  {
   "cell_type": "code",
   "execution_count": null,
   "metadata": {},
   "outputs": [],
   "source": [
    "# default_exp core"
   ]
  },
  {
   "cell_type": "markdown",
   "metadata": {},
   "source": [
    "# Sending a notification when the temperature is too high\n",
    "#source: https://geekflare.com/send-gmail-in-python/"
   ]
  },
  {
   "cell_type": "code",
   "execution_count": null,
   "metadata": {},
   "outputs": [],
   "source": [
    "#hide\n",
    "from nbdev.showdoc import *\n",
    "import os\n",
    "import time\n",
    "import smtplib, ssl"
   ]
  },
  {
   "cell_type": "code",
   "execution_count": null,
   "metadata": {},
   "outputs": [],
   "source": [
    "class Mail:\n",
    "\n",
    "    def __init__(self):\n",
    "        self.port = 465\n",
    "        self.smtp_server_domain_name = \"smtp.gmail.com\"\n",
    "        self.sender_mail = \"GMAIL_ADDRESS\"\n",
    "        self.password = \"SECURE_PASSWORD\"\n",
    "\n",
    "    def send(self, emails, subject, content):\n",
    "        ssl_context = ssl.create_default_context()\n",
    "        service = smtplib.SMTP_SSL(self.smtp_server_domain_name, self.port, context=ssl_context)\n",
    "        service.login(self.sender_mail, self.password)\n",
    "        \n",
    "        for email in emails:\n",
    "            result = service.sendmail(self.sender_mail, email, f\"Subject: {subject}\\n{content}\")\n",
    "\n",
    "        service.quit()\n",
    "\n",
    "\n",
    "if __name__ == '__main__':\n",
    "    mails = input(\"Enter emails: \").split()\n",
    "    subject = input(\"Temperature notification \")\n",
    "    content = input(\"ALERT: THE TEMPERATURE IS TOO DAMN HIGH \")\n",
    "\n",
    "    mail = Mail()\n",
    "    mail.send(mails, subject, content)"
   ]
  }
 ],
 "metadata": {
  "kernelspec": {
   "display_name": "Python 3",
   "language": "python",
   "name": "python3"
  }
 },
 "nbformat": 4,
 "nbformat_minor": 2
}
