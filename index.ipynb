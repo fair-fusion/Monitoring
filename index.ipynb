{
 "cells": [
  {
   "cell_type": "code",
   "execution_count": null,
   "source": [
    "#hide\n",
    "from monitoring.core import *"
   ],
   "outputs": [],
   "metadata": {}
  },
  {
   "cell_type": "markdown",
   "source": [
    "# FairFusion - Measuring and Monitoring Temperature\n",
    "\n",
    "This repo contains code for running the Adafruit DHT22 temperature and humidity sensor with a RaspberryPi. You can register the all sensory measurements in a csv file with a date and time stamp. In addition, you can adjust the following settings: measurement interval (time) and storage location."
   ],
   "metadata": {}
  },
  {
   "cell_type": "markdown",
   "source": [
    "This file will become your README and also the index of your documentation."
   ],
   "metadata": {}
  },
  {
   "cell_type": "markdown",
   "source": [
    "## Install\n",
    "\n",
    "This is not yet a package so you only need to install the requirerments as specified in requirements.txt"
   ],
   "metadata": {}
  },
  {
   "cell_type": "markdown",
   "source": [
    "`pip install monitoring`"
   ],
   "metadata": {}
  },
  {
   "cell_type": "markdown",
   "source": [
    "## How to use"
   ],
   "metadata": {}
  },
  {
   "cell_type": "markdown",
   "source": [
    "In your Raspberry.pi terminal, run 'python3 temp_reg_p.py"
   ],
   "metadata": {}
  }
 ],
 "metadata": {
  "kernelspec": {
   "display_name": "Python 3",
   "language": "python",
   "name": "python3"
  }
 },
 "nbformat": 4,
 "nbformat_minor": 2
}